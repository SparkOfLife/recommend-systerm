{
 "cells": [
  {
   "cell_type": "code",
   "execution_count": 2,
   "metadata": {
    "collapsed": true,
    "pycharm": {
     "is_executing": false
    }
   },
   "outputs": [],
   "source": [
    "import numpy as np\n",
    "from sklearn.preprocessing import OneHotEncoder\n",
    "from sklearn.preprocessing import OrdinalEncoder\n",
    "import tensorflow as tf\n",
    "import pandas as pd\n",
    "import time\n",
    "from sklearn.metrics import mean_squared_error\n",
    "from sklearn.compose import ColumnTransformer"
   ]
  },
  {
   "cell_type": "code",
   "execution_count": 3,
   "outputs": [
    {
     "data": {
      "text/plain": "   u_id  age  gender  occupation  zip_code\n0     1   24       1          19       622\n1     2   53       0          13       689\n2     3   23       1          20       270\n3     4   24       1          19       331\n4     5   33       0          13       133",
      "text/html": "<div>\n<style scoped>\n    .dataframe tbody tr th:only-of-type {\n        vertical-align: middle;\n    }\n\n    .dataframe tbody tr th {\n        vertical-align: top;\n    }\n\n    .dataframe thead th {\n        text-align: right;\n    }\n</style>\n<table border=\"1\" class=\"dataframe\">\n  <thead>\n    <tr style=\"text-align: right;\">\n      <th></th>\n      <th>u_id</th>\n      <th>age</th>\n      <th>gender</th>\n      <th>occupation</th>\n      <th>zip_code</th>\n    </tr>\n  </thead>\n  <tbody>\n    <tr>\n      <th>0</th>\n      <td>1</td>\n      <td>24</td>\n      <td>1</td>\n      <td>19</td>\n      <td>622</td>\n    </tr>\n    <tr>\n      <th>1</th>\n      <td>2</td>\n      <td>53</td>\n      <td>0</td>\n      <td>13</td>\n      <td>689</td>\n    </tr>\n    <tr>\n      <th>2</th>\n      <td>3</td>\n      <td>23</td>\n      <td>1</td>\n      <td>20</td>\n      <td>270</td>\n    </tr>\n    <tr>\n      <th>3</th>\n      <td>4</td>\n      <td>24</td>\n      <td>1</td>\n      <td>19</td>\n      <td>331</td>\n    </tr>\n    <tr>\n      <th>4</th>\n      <td>5</td>\n      <td>33</td>\n      <td>0</td>\n      <td>13</td>\n      <td>133</td>\n    </tr>\n  </tbody>\n</table>\n</div>"
     },
     "metadata": {},
     "output_type": "execute_result",
     "execution_count": 3
    }
   ],
   "source": [
    "#处理user特征\n",
    "u_user = pd.read_csv('ml-100k/u.user', sep='|', names=['u_id', 'age',  'gender', 'occupation', 'zip_code'])\n",
    "encode = OrdinalEncoder(dtype=np.int).fit_transform(u_user[[ 'gender', 'occupation','zip_code']])\n",
    "u_user = pd.DataFrame(np.c_[u_user[['u_id','age']].values,encode], columns=['u_id', 'age',  'gender', 'occupation', 'zip_code'])\n",
    "u_user.head()"
   ],
   "metadata": {
    "collapsed": false,
    "pycharm": {
     "name": "#%%\n",
     "is_executing": false
    }
   }
  },
  {
   "cell_type": "code",
   "execution_count": 0,
   "outputs": [],
   "source": [],
   "metadata": {
    "collapsed": false,
    "pycharm": {
     "name": "#%%\n",
     "is_executing": false
    }
   }
  },
  {
   "cell_type": "code",
   "execution_count": 38,
   "outputs": [],
   "source": [
    "# #user_info_dict key:u_id, value:list()\n",
    "# u_info_dict = {}\n",
    "# for i in range(len(u_user)):\n",
    "#     row = u_user.iloc[i]\n",
    "#     u_info_dict[row['u_id']] = row[['age', 'gender', 'occupation', 'zip_code']].values"
   ],
   "metadata": {
    "collapsed": false,
    "pycharm": {
     "name": "#%%\n",
     "is_executing": false
    }
   }
  },
  {
   "cell_type": "code",
   "execution_count": 4,
   "outputs": [],
   "source": [
    "#处理item特征\n",
    "names = '''\n",
    "m_id | m_title | release_date | video_release_date |\n",
    "              IMDb_URL | unknown | Action | Adventure | Animation |\n",
    "              Children | Comedy | Crime | Documentary | Drama | Fantasy |\n",
    "              Film-Noir | Horror | Musical | Mystery | Romance | Sci-Fi |\n",
    "              Thriller | War | Western\n",
    "              '''\n",
    "names = [name.strip() for name in names.split('|')]\n",
    "u_item = pd.read_csv('ml-100k/u.item', encoding='iso-8859-1', sep='|', names=names)\n",
    "u_item.drop(['m_title', 'video_release_date', 'IMDb_URL'], axis=1,inplace=True)\n",
    "u_item['release_date'].fillna(method='ffill',inplace=True)\n"
   ],
   "metadata": {
    "collapsed": false,
    "pycharm": {
     "name": "#%%\n",
     "is_executing": false
    }
   }
  },
  {
   "cell_type": "code",
   "execution_count": 5,
   "outputs": [
    {
     "data": {
      "text/plain": "   m_id  unknown  Action  Adventure  Animation  Children  Comedy  Crime  \\\n0     1        0       0          0          1         1       1      0   \n1     2        0       1          1          0         0       0      0   \n2     3        0       0          0          0         0       0      0   \n3     4        0       1          0          0         0       1      0   \n4     5        0       0          0          0         0       0      1   \n\n   Documentary  Drama      ...       Film-Noir  Horror  Musical  Mystery  \\\n0            0      0      ...               0       0        0        0   \n1            0      0      ...               0       0        0        0   \n2            0      0      ...               0       0        0        0   \n3            0      1      ...               0       0        0        0   \n4            0      1      ...               0       0        0        0   \n\n   Romance  Sci-Fi  Thriller  War  Western  release_year  \n0        0       0         0    0        0            73  \n1        0       0         1    0        0            73  \n2        0       0         1    0        0            73  \n3        0       0         0    0        0            73  \n4        0       0         1    0        0            73  \n\n[5 rows x 21 columns]",
      "text/html": "<div>\n<style scoped>\n    .dataframe tbody tr th:only-of-type {\n        vertical-align: middle;\n    }\n\n    .dataframe tbody tr th {\n        vertical-align: top;\n    }\n\n    .dataframe thead th {\n        text-align: right;\n    }\n</style>\n<table border=\"1\" class=\"dataframe\">\n  <thead>\n    <tr style=\"text-align: right;\">\n      <th></th>\n      <th>m_id</th>\n      <th>unknown</th>\n      <th>Action</th>\n      <th>Adventure</th>\n      <th>Animation</th>\n      <th>Children</th>\n      <th>Comedy</th>\n      <th>Crime</th>\n      <th>Documentary</th>\n      <th>Drama</th>\n      <th>...</th>\n      <th>Film-Noir</th>\n      <th>Horror</th>\n      <th>Musical</th>\n      <th>Mystery</th>\n      <th>Romance</th>\n      <th>Sci-Fi</th>\n      <th>Thriller</th>\n      <th>War</th>\n      <th>Western</th>\n      <th>release_year</th>\n    </tr>\n  </thead>\n  <tbody>\n    <tr>\n      <th>0</th>\n      <td>1</td>\n      <td>0</td>\n      <td>0</td>\n      <td>0</td>\n      <td>1</td>\n      <td>1</td>\n      <td>1</td>\n      <td>0</td>\n      <td>0</td>\n      <td>0</td>\n      <td>...</td>\n      <td>0</td>\n      <td>0</td>\n      <td>0</td>\n      <td>0</td>\n      <td>0</td>\n      <td>0</td>\n      <td>0</td>\n      <td>0</td>\n      <td>0</td>\n      <td>73</td>\n    </tr>\n    <tr>\n      <th>1</th>\n      <td>2</td>\n      <td>0</td>\n      <td>1</td>\n      <td>1</td>\n      <td>0</td>\n      <td>0</td>\n      <td>0</td>\n      <td>0</td>\n      <td>0</td>\n      <td>0</td>\n      <td>...</td>\n      <td>0</td>\n      <td>0</td>\n      <td>0</td>\n      <td>0</td>\n      <td>0</td>\n      <td>0</td>\n      <td>1</td>\n      <td>0</td>\n      <td>0</td>\n      <td>73</td>\n    </tr>\n    <tr>\n      <th>2</th>\n      <td>3</td>\n      <td>0</td>\n      <td>0</td>\n      <td>0</td>\n      <td>0</td>\n      <td>0</td>\n      <td>0</td>\n      <td>0</td>\n      <td>0</td>\n      <td>0</td>\n      <td>...</td>\n      <td>0</td>\n      <td>0</td>\n      <td>0</td>\n      <td>0</td>\n      <td>0</td>\n      <td>0</td>\n      <td>1</td>\n      <td>0</td>\n      <td>0</td>\n      <td>73</td>\n    </tr>\n    <tr>\n      <th>3</th>\n      <td>4</td>\n      <td>0</td>\n      <td>1</td>\n      <td>0</td>\n      <td>0</td>\n      <td>0</td>\n      <td>1</td>\n      <td>0</td>\n      <td>0</td>\n      <td>1</td>\n      <td>...</td>\n      <td>0</td>\n      <td>0</td>\n      <td>0</td>\n      <td>0</td>\n      <td>0</td>\n      <td>0</td>\n      <td>0</td>\n      <td>0</td>\n      <td>0</td>\n      <td>73</td>\n    </tr>\n    <tr>\n      <th>4</th>\n      <td>5</td>\n      <td>0</td>\n      <td>0</td>\n      <td>0</td>\n      <td>0</td>\n      <td>0</td>\n      <td>0</td>\n      <td>1</td>\n      <td>0</td>\n      <td>1</td>\n      <td>...</td>\n      <td>0</td>\n      <td>0</td>\n      <td>0</td>\n      <td>0</td>\n      <td>0</td>\n      <td>0</td>\n      <td>1</td>\n      <td>0</td>\n      <td>0</td>\n      <td>73</td>\n    </tr>\n  </tbody>\n</table>\n<p>5 rows × 21 columns</p>\n</div>"
     },
     "metadata": {},
     "output_type": "execute_result",
     "execution_count": 5
    }
   ],
   "source": [
    "def get_year(x):\n",
    "    year_str = x[-4:]\n",
    "    return int(year_str)\n",
    "u_item['release_year'] = u_item['release_date'].apply(get_year)\n",
    "u_item['release_year'] = u_item['release_year'] - u_item['release_year'].min()\n",
    "u_item.drop('release_date', axis=1, inplace=True)\n",
    "u_item.head()"
   ],
   "metadata": {
    "collapsed": false,
    "pycharm": {
     "name": "#%%\n",
     "is_executing": false
    }
   }
  },
  {
   "cell_type": "code",
   "execution_count": 6,
   "outputs": [],
   "source": [
    "cols = ['user','item','rating','timestamp']\n",
    "data = pd.read_csv('ml-100k/u.data', sep='\\t',names=cols)\n",
    "train = pd.read_csv('ml-100k/ua.base', sep='\\t',names=cols)\n",
    "test = pd.read_csv('ml-100k/ua.test', sep='\\t',names=cols)\n",
    " \n",
    "n_user = len(data['user'].unique())\n",
    "n_item = len(data['item'].unique())\n",
    "y_train = train['rating'].values\n",
    "y_test = test['rating'].values\n",
    "train.head()\n",
    "train = train[['user','item']]\n",
    "test = test[['user', 'item']]"
   ],
   "metadata": {
    "collapsed": false,
    "pycharm": {
     "name": "#%%\n",
     "is_executing": false
    }
   }
  },
  {
   "cell_type": "code",
   "execution_count": null,
   "outputs": [],
   "source": [
    "# item_info_dict = {}\n",
    "# value_col = [\n",
    "#     'release_year',\n",
    "#  'unknown',\n",
    "#  'Action',\n",
    "#  'Adventure',\n",
    "#  'Animation',\n",
    "#  'Children',\n",
    "#  'Comedy',\n",
    "#  'Crime',\n",
    "#  'Documentary',\n",
    "#  'Drama',\n",
    "#  'Fantasy',\n",
    "#  'Film-Noir',\n",
    "#  'Horror',\n",
    "#  'Musical',\n",
    "#  'Mystery',\n",
    "#  'Romance',\n",
    "#  'Sci-Fi',\n",
    "#  'Thriller',\n",
    "#  'War',\n",
    "#  'Western',\n",
    "#  ]\n",
    "# \n",
    "# for i in range(len(u_item)):\n",
    "#     row = u_item.iloc[i]\n",
    "#     item_info_dict[row['m_id']] = row[value_col].values"
   ],
   "metadata": {
    "collapsed": false,
    "pycharm": {
     "name": "#%%\n"
    }
   }
  },
  {
   "cell_type": "code",
   "execution_count": 7,
   "outputs": [],
   "source": [
    "#组合数据\n",
    "train = pd.merge(train, u_user, how='left', left_on='user', right_on='u_id')\n",
    "train.drop('u_id', axis = 1,inplace=True)\n",
    "train = pd.merge(train, u_item, how='left', left_on='item', right_on='m_id')\n",
    "train.drop('m_id', axis=1, inplace=True)"
   ],
   "metadata": {
    "collapsed": false,
    "pycharm": {
     "name": "#%%\n",
     "is_executing": false
    }
   }
  },
  {
   "cell_type": "code",
   "execution_count": 8,
   "outputs": [],
   "source": [
    "test = pd.merge(test, u_user, how='left', left_on='user', right_on='u_id')\n",
    "test.drop('u_id', axis = 1,inplace=True)\n",
    "test = pd.merge(test, u_item, how='left', left_on='item', right_on='m_id')\n",
    "test.drop('m_id', axis=1, inplace=True)"
   ],
   "metadata": {
    "collapsed": false,
    "pycharm": {
     "name": "#%%\n",
     "is_executing": false
    }
   }
  },
  {
   "cell_type": "code",
   "execution_count": 9,
   "outputs": [
    {
     "name": "stderr",
     "text": [
      "/home/flyvideo/anaconda3/lib/python3.7/site-packages/sklearn/preprocessing/_encoders.py:415: FutureWarning: The handling of integer data will change in version 0.22. Currently, the categories are determined based on the range [0, max(values)], while in the future they will be determined based on the unique values.\nIf you want the future behaviour and silence this warning, you can specify \"categories='auto'\".\nIn case you used a LabelEncoder before this OneHotEncoder to convert the categories to integers, then you can now use the OneHotEncoder directly.\n  warnings.warn(msg, FutureWarning)\n"
     ],
     "output_type": "stream"
    }
   ],
   "source": [
    "ct = ColumnTransformer([('u_i_onehot', OneHotEncoder(categories=[range(1,n_user+1), range(1,n_item+1)],sparse=False,dtype=np.int), ['user', 'item']),\n",
    "                        ('gender_onehot', OneHotEncoder(dtype=np.int, sparse=False), ['gender','occupation','zip_code'])],\n",
    "                       remainder='passthrough')\n",
    "ct.fit(train)\n",
    "X_train = ct.transform(train)\n",
    "X_test = ct.transform(test)\n"
   ],
   "metadata": {
    "collapsed": false,
    "pycharm": {
     "name": "#%%\n",
     "is_executing": false
    }
   }
  },
  {
   "cell_type": "code",
   "execution_count": 10,
   "outputs": [],
   "source": [
    "#特征维度与V的维度\n",
    "n_feature = X_train.shape[1]\n",
    "k = 10"
   ],
   "metadata": {
    "collapsed": false,
    "pycharm": {
     "name": "#%%\n",
     "is_executing": false
    }
   }
  },
  {
   "cell_type": "code",
   "execution_count": 11,
   "outputs": [],
   "source": [
    "#定义权重\n",
    "w0 = tf.Variable(initial_value=tf.truncated_normal(shape=[1]), name='w0')\n",
    "w = tf.Variable(initial_value=tf.truncated_normal(shape=[n_feature]), name='w')\n",
    "V = tf.Variable(initial_value=tf.truncated_normal(shape=[k, n_feature]), name='V')"
   ],
   "metadata": {
    "collapsed": false,
    "pycharm": {
     "name": "#%%\n",
     "is_executing": false
    }
   }
  },
  {
   "cell_type": "code",
   "execution_count": 12,
   "outputs": [],
   "source": [
    "X = tf.placeholder(dtype='float',shape=[None, n_feature], name=\"X\")\n",
    "y = tf.placeholder(dtype='float', shape=[None, 1], name= 'y')"
   ],
   "metadata": {
    "collapsed": false,
    "pycharm": {
     "name": "#%%\n",
     "is_executing": false
    }
   }
  },
  {
   "cell_type": "code",
   "execution_count": 13,
   "outputs": [],
   "source": [
    "#公式\n",
    "linear_terms = tf.add(w0, tf.reduce_sum(tf.multiply(X, w),axis=1,keepdims=True))\n",
    "pair_interactions = 1/2 * tf.reduce_sum(\n",
    "    tf.square(tf.matmul(X, V, transpose_b=True)) \n",
    "    - tf.matmul(tf.square(X), tf.square(V), transpose_b=True),\n",
    "    axis=1, keepdims=True)\n",
    "y_hat = linear_terms + pair_interactions\n"
   ],
   "metadata": {
    "collapsed": false,
    "pycharm": {
     "name": "#%%\n",
     "is_executing": false
    }
   }
  },
  {
   "cell_type": "code",
   "execution_count": 14,
   "outputs": [],
   "source": [
    "y_hat = linear_terms + pair_interactions\n",
    " \n",
    "error = tf.reduce_mean(tf.square(y - y_hat))\n",
    " \n",
    "lambda_w = tf.constant(0.001, name='lambda_w')\n",
    "lambda_v = tf.constant(0.001, name='lambda_v')\n",
    " \n",
    "l2_normal = lambda_w * tf.reduce_sum(tf.square(w)) + lambda_v*tf.reduce_sum(tf.square(V))\n",
    " \n",
    "loss = error + l2_normal"
   ],
   "metadata": {
    "collapsed": false,
    "pycharm": {
     "name": "#%%\n",
     "is_executing": false
    }
   }
  },
  {
   "cell_type": "code",
   "execution_count": 15,
   "outputs": [],
   "source": [
    "train_op = tf.train.AdamOptimizer(learning_rate=0.001).minimize(loss)\n"
   ],
   "metadata": {
    "collapsed": false,
    "pycharm": {
     "name": "#%%\n",
     "is_executing": false
    }
   }
  },
  {
   "cell_type": "code",
   "execution_count": 16,
   "outputs": [],
   "source": [
    "def batcher(X_, y_=None, batch_size=-1):\n",
    "    n_samples = X_.shape[0]\n",
    "\n",
    "    if batch_size == -1:\n",
    "        batch_size = n_samples\n",
    "    if batch_size < 1:\n",
    "       raise ValueError('Parameter batch_size={} is unsupported'.format(batch_size))\n",
    "\n",
    "    for i in range(0, n_samples, batch_size):\n",
    "        upper_bound = min(i + batch_size, n_samples)\n",
    "        ret_x = X_[i:upper_bound]\n",
    "        ret_y = None\n",
    "        if y_ is not None:\n",
    "            ret_y = y_[i:i + batch_size]\n",
    "            yield (ret_x, ret_y)"
   ],
   "metadata": {
    "collapsed": false,
    "pycharm": {
     "name": "#%%\n",
     "is_executing": false
    }
   }
  },
  {
   "cell_type": "code",
   "execution_count": 17,
   "outputs": [],
   "source": [
    "epochs = 1500\n",
    "batch_size = 1000"
   ],
   "metadata": {
    "collapsed": false,
    "pycharm": {
     "name": "#%%\n",
     "is_executing": false
    }
   }
  },
  {
   "cell_type": "code",
   "execution_count": null,
   "outputs": [],
   "source": [
    "loss_scalar = tf.summary.scalar('loss', loss)\n",
    "merged=tf.summary.merge_all()\n",
    "saver = tf.train.Saver()\n",
    "with tf.Session() as sess:\n",
    "    sess.run(tf.global_variables_initializer())\n",
    "    train_writer = tf.summary.FileWriter(logdir='FM_mf_logs', graph=sess.graph)\n",
    "    ckpt = tf.train.get_checkpoint_state(checkpoint_dir='FM_mf_models')\n",
    "    if ckpt and ckpt.model_checkpoint_path:\n",
    "        saver.restore(sess, save_path=ckpt.model_checkpoint_path)\n",
    "        epoch_start =1001\n",
    "    else:\n",
    "        epoch_start = 1\n",
    "    for epoch in range(epoch_start, epochs+1):\n",
    "        s_time = time.time()\n",
    "        perm = np.random.permutation(X_train.shape[0])\n",
    "        for X_batch, y_batch in batcher(X_train[perm], y_train[perm], batch_size):\n",
    "            _, loss_value = sess.run([train_op, loss], feed_dict={X:X_batch.reshape(-1,n_feature), y: y_batch.reshape(-1,1)})\n",
    "        print('epoch{}_loss: {}, epoch_running_time: {}'.format(epoch, loss_value, time.time()-s_time))\n",
    "            \n",
    "        if epoch % 50 == 0:\n",
    "            saver.save(sess, save_path='FM_mf_models/fm', global_step=epoch)\n",
    "            merged_value = sess.run(merged, feed_dict={X:X_batch.reshape(-1,n_feature), y: y_batch.reshape(-1,1)})\n",
    "            train_writer.add_summary(merged_value,global_step=epoch)\n",
    "            \n",
    "            #test\n",
    "            error_test, y_test_pred = sess.run([error, y_hat], feed_dict={X:X_test.reshape(-1,n_feature), y:y_test.reshape(-1,1)})\n",
    "            mmse = mean_squared_error(y_test, y_test_pred)\n",
    "            print('loss_test: {}, mmse: {}'.format(error_test, mmse))\n",
    "            \n",
    "            \n",
    "    train_writer.close()"
   ],
   "metadata": {
    "collapsed": false,
    "pycharm": {
     "name": "#%%\n"
    }
   }
  },
  {
   "cell_type": "code",
   "execution_count": 19,
   "outputs": [
    {
     "name": "stdout",
     "text": [
      "mmse:  7.2898466801487025\ntest_error 7.2898455\n"
     ],
     "output_type": "stream"
    }
   ],
   "source": [
    "#test\n",
    "# with tf.Session() as sess:\n",
    "#     saver = tf.train.Saver()\n",
    "#     ckpt = tf.train.get_checkpoint_state(checkpoint_dir='FM_mf_models')\n",
    "#     if ckpt and ckpt.model_checkpoint_path:\n",
    "#         saver.restore(sess, save_path=ckpt.model_checkpoint_path)\n",
    "#     else:\n",
    "#         print('no model')\n",
    "#         exit(1)\n",
    "#     test_error, y_test_hat = sess.run([error, y_hat], feed_dict={X:X_test.reshape(-1,n_feature), y: y_test.reshape(-1,1)})\n",
    "#     # test_error, y_test_hat = sess.run([error, y_hat], feed_dict={X:X_test.reshape(-1,n_feature), y: y_test.reshape(-1,1)})\n",
    "# \n",
    "#     # print(y_test_hat.shape)\n",
    "#     # mmse = tf.sqrt(tf.reduce_mean(tf.square(y_test_hat[:,0]-y_test)))\n",
    "#     print('mmse: ', mean_squared_error(y_test, y_test_hat[:,0]))\n",
    "#     print('test_error', test_error)"
   ],
   "metadata": {
    "collapsed": false,
    "pycharm": {
     "name": "#%%\n",
     "is_executing": false
    }
   }
  },
  {
   "cell_type": "code",
   "execution_count": null,
   "outputs": [],
   "source": [
    "\n"
   ],
   "metadata": {
    "collapsed": false,
    "pycharm": {
     "name": "#%%\n"
    }
   }
  }
 ],
 "metadata": {
  "language_info": {
   "codemirror_mode": {
    "name": "ipython",
    "version": 2
   },
   "file_extension": ".py",
   "mimetype": "text/x-python",
   "name": "python",
   "nbconvert_exporter": "python",
   "pygments_lexer": "ipython2",
   "version": "2.7.6"
  },
  "kernelspec": {
   "name": "python3",
   "language": "python",
   "display_name": "Python 3"
  },
  "pycharm": {
   "stem_cell": {
    "cell_type": "raw",
    "source": [],
    "metadata": {
     "collapsed": false
    }
   }
  }
 },
 "nbformat": 4,
 "nbformat_minor": 0
}